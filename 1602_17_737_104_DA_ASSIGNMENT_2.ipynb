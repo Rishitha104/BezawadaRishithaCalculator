{
  "nbformat": 4,
  "nbformat_minor": 0,
  "metadata": {
    "colab": {
      "name": "1602-17-737-104_DA ASSIGNMENT-2.ipynb",
      "provenance": [],
      "collapsed_sections": [],
      "authorship_tag": "ABX9TyPwXlN6YyPy0XRhMiszcTkO",
      "include_colab_link": true
    },
    "kernelspec": {
      "name": "ir",
      "display_name": "R"
    }
  },
  "cells": [
    {
      "cell_type": "markdown",
      "metadata": {
        "id": "view-in-github",
        "colab_type": "text"
      },
      "source": [
        "<a href=\"https://colab.research.google.com/github/Rishitha104/BezawadaRishithaCalculator/blob/master/1602_17_737_104_DA_ASSIGNMENT_2.ipynb\" target=\"_parent\"><img src=\"https://colab.research.google.com/assets/colab-badge.svg\" alt=\"Open In Colab\"/></a>"
      ]
    },
    {
      "cell_type": "code",
      "metadata": {
        "colab": {
          "base_uri": "https://localhost:8080/",
          "height": 34
        },
        "id": "LJkWdFV9KUwT",
        "outputId": "7ea06b7d-a3af-47bd-c107-2950b6268786"
      },
      "source": [
        "R.version.string"
      ],
      "execution_count": 1,
      "outputs": [
        {
          "output_type": "display_data",
          "data": {
            "text/plain": [
              "[1] \"R version 4.0.3 (2020-10-10)\""
            ],
            "text/latex": "'R version 4.0.3 (2020-10-10)'",
            "text/markdown": "'R version 4.0.3 (2020-10-10)'",
            "text/html": [
              "'R version 4.0.3 (2020-10-10)'"
            ]
          },
          "metadata": {
            "tags": []
          }
        }
      ]
    },
    {
      "cell_type": "code",
      "metadata": {
        "colab": {
          "base_uri": "https://localhost:8080/",
          "height": 0
        },
        "id": "sV5djXQCKu8p",
        "outputId": "77f878b3-a540-45d8-ed20-fa5f4c851e96"
      },
      "source": [
        "install.packages(\"UsingR\")"
      ],
      "execution_count": 2,
      "outputs": [
        {
          "output_type": "stream",
          "text": [
            "Installing package into ‘/usr/local/lib/R/site-library’\n",
            "(as ‘lib’ is unspecified)\n",
            "\n",
            "also installing the dependencies ‘png’, ‘jpeg’, ‘checkmate’, ‘Formula’, ‘latticeExtra’, ‘gridExtra’, ‘data.table’, ‘htmlTable’, ‘viridis’, ‘HistData’, ‘Hmisc’\n",
            "\n",
            "\n"
          ],
          "name": "stderr"
        }
      ]
    },
    {
      "cell_type": "markdown",
      "metadata": {
        "id": "w6YXCHo9LQ-g"
      },
      "source": [
        "**Question 1 with 30 random numbers** Create 30 random numbers that are normally distributed with mean 15 and s.d. 3. Find a 1-sample z-test at the 99% level. Did it get it right? Repeat the same thing with sample size 50 random numbers and write your observations?"
      ]
    },
    {
      "cell_type": "code",
      "metadata": {
        "colab": {
          "base_uri": "https://localhost:8080/",
          "height": 34
        },
        "id": "lWMnnW3mLfaH",
        "outputId": "f2034358-a22b-41fe-8d6b-32e505254548"
      },
      "source": [
        "mu=15\n",
        "sd=3\n",
        "x<- rnorm(30,mu,sd)\n",
        "xbar<-mean(x)\n",
        "se<-sd/sqrt(length(x))\n",
        "z <-(xbar-mu)/se\n",
        "z"
      ],
      "execution_count": 4,
      "outputs": [
        {
          "output_type": "display_data",
          "data": {
            "text/plain": [
              "[1] 0.6968738"
            ],
            "text/latex": "0.696873849668111",
            "text/markdown": "0.696873849668111",
            "text/html": [
              "0.696873849668111"
            ]
          },
          "metadata": {
            "tags": []
          }
        }
      ]
    },
    {
      "cell_type": "markdown",
      "metadata": {
        "id": "EM6fhRQmMQCg"
      },
      "source": [
        "**Question 1 with 50 random numbers**"
      ]
    },
    {
      "cell_type": "code",
      "metadata": {
        "colab": {
          "base_uri": "https://localhost:8080/",
          "height": 34
        },
        "id": "1Sfm4yBzMa6h",
        "outputId": "2a9d2594-9b0a-4274-be0c-ab06990c0e4d"
      },
      "source": [
        "mu=15\n",
        "sd=3\n",
        "x<-rnorm(50,mu,sd)\n",
        "xbar<-mean(x)\n",
        "se<-sd/sqrt(length(x))\n",
        "z<-(xbar-mu)/se\n",
        "z"
      ],
      "execution_count": 7,
      "outputs": [
        {
          "output_type": "display_data",
          "data": {
            "text/plain": [
              "[1] -0.6634425"
            ],
            "text/latex": "-0.663442531207648",
            "text/markdown": "-0.663442531207648",
            "text/html": [
              "-0.663442531207648"
            ]
          },
          "metadata": {
            "tags": []
          }
        }
      ]
    },
    {
      "cell_type": "markdown",
      "metadata": {
        "id": "iuiWFtcQMvMc"
      },
      "source": [
        "**Question 2** Repeat the above problem for t-test and write your observations"
      ]
    },
    {
      "cell_type": "code",
      "metadata": {
        "colab": {
          "base_uri": "https://localhost:8080/",
          "height": 210
        },
        "id": "PE6ys6ugM6lT",
        "outputId": "a7f9858f-7bf4-45bd-a44c-3d648039971f"
      },
      "source": [
        "t.test(x)"
      ],
      "execution_count": 8,
      "outputs": [
        {
          "output_type": "display_data",
          "data": {
            "text/plain": [
              "\n",
              "\tOne Sample t-test\n",
              "\n",
              "data:  x\n",
              "t = 31.317, df = 49, p-value < 2.2e-16\n",
              "alternative hypothesis: true mean is not equal to 0\n",
              "95 percent confidence interval:\n",
              " 13.77406 15.66299\n",
              "sample estimates:\n",
              "mean of x \n",
              " 14.71853 \n"
            ]
          },
          "metadata": {
            "tags": []
          }
        }
      ]
    },
    {
      "cell_type": "markdown",
      "metadata": {
        "id": "SfrcCvHJNARh"
      },
      "source": [
        "**Question 3** For Simple data set smokyph, This data set measures pH levels for water samples in the\n",
        "Great Smoky Mountains. Use the waterph column (smokyph[[’waterph’]]) to test the null hypothesis\n",
        "that µ = 7. What is a reasonable alternative?"
      ]
    },
    {
      "cell_type": "code",
      "metadata": {
        "colab": {
          "base_uri": "https://localhost:8080/",
          "height": 597
        },
        "id": "kkFL6FHXNFig",
        "outputId": "c95d0844-29df-4600-a8cc-8ca4ed05340b"
      },
      "source": [
        "library(UsingR)\n",
        "data(smokyph)\n",
        "xbar = mean(smokyph[['waterph']]);\n",
        "s = sd(smokyph[['waterph']]);\n",
        "n = length(smokyph[['waterph']]);\n",
        "t = (xbar-7)/(s/sqrt(n));\n",
        "t;\n"
      ],
      "execution_count": 9,
      "outputs": [
        {
          "output_type": "stream",
          "text": [
            "Loading required package: MASS\n",
            "\n",
            "Loading required package: HistData\n",
            "\n",
            "Loading required package: Hmisc\n",
            "\n",
            "Loading required package: lattice\n",
            "\n",
            "Loading required package: survival\n",
            "\n",
            "Loading required package: Formula\n",
            "\n",
            "Loading required package: ggplot2\n",
            "\n",
            "\n",
            "Attaching package: ‘Hmisc’\n",
            "\n",
            "\n",
            "The following objects are masked from ‘package:base’:\n",
            "\n",
            "    format.pval, units\n",
            "\n",
            "\n",
            "\n",
            "Attaching package: ‘UsingR’\n",
            "\n",
            "\n",
            "The following object is masked from ‘package:survival’:\n",
            "\n",
            "    cancer\n",
            "\n",
            "\n"
          ],
          "name": "stderr"
        },
        {
          "output_type": "display_data",
          "data": {
            "text/plain": [
              "[1] 2.751633"
            ],
            "text/latex": "2.75163262066017",
            "text/markdown": "2.75163262066017",
            "text/html": [
              "2.75163262066017"
            ]
          },
          "metadata": {
            "tags": []
          }
        }
      ]
    },
    {
      "cell_type": "code",
      "metadata": {
        "colab": {
          "base_uri": "https://localhost:8080/",
          "height": 34
        },
        "id": "LwInhxDuNQBO",
        "outputId": "d32b13c3-0c5b-4473-bea9-d49b9b87f820"
      },
      "source": [
        "1-pt(t, df=n-1)"
      ],
      "execution_count": 10,
      "outputs": [
        {
          "output_type": "display_data",
          "data": {
            "text/plain": [
              "[1] 0.003726247"
            ],
            "text/latex": "0.00372624665353127",
            "text/markdown": "0.00372624665353127",
            "text/html": [
              "0.00372624665353127"
            ]
          },
          "metadata": {
            "tags": []
          }
        }
      ]
    },
    {
      "cell_type": "markdown",
      "metadata": {
        "id": "R3HDwXUANVIt"
      },
      "source": [
        "**Question 4**\n",
        "Load the Simple dataset homework. This measures study habits of students from private and\n",
        "public high schools. Make a side-by-side boxplot. Use the appropriate test to test for equality of\n",
        "centers\n"
      ]
    },
    {
      "cell_type": "code",
      "metadata": {
        "colab": {
          "base_uri": "https://localhost:8080/",
          "height": 437
        },
        "id": "V4aSXwWBNYyt",
        "outputId": "688c2abb-bbf7-4ece-9fc0-5c96cd0a901c"
      },
      "source": [
        "library(UsingR);\n",
        "data(homework);\n",
        "attach(homework);\n",
        "par(mfrow = c(1,2));\n",
        "boxplot(Private);\n",
        "boxplot(Public);"
      ],
      "execution_count": 11,
      "outputs": [
        {
          "output_type": "display_data",
          "data": {
            "image/png": "[encoded data removed]",
            "text/plain": [
              "plot without title"
            ]
          },
          "metadata": {
            "tags": [],
            "image/png": {
              "width": 420,
              "height": 420
            }
          }
        }
      ]
    },
    {
      "cell_type": "code",
      "metadata": {
        "colab": {
          "base_uri": "https://localhost:8080/",
          "height": 210
        },
        "id": "rkMkYZCSNeNc",
        "outputId": "99cdea2e-3b32-4310-e7ce-9e580f361c9c"
      },
      "source": [
        "t.test(homework)"
      ],
      "execution_count": 12,
      "outputs": [
        {
          "output_type": "display_data",
          "data": {
            "text/plain": [
              "\n",
              "\tOne Sample t-test\n",
              "\n",
              "data:  homework\n",
              "t = 19.798, df = 29, p-value < 2.2e-16\n",
              "alternative hypothesis: true mean is not equal to 0\n",
              "95 percent confidence interval:\n",
              " 14.58922 17.95078\n",
              "sample estimates:\n",
              "mean of x \n",
              "    16.27 \n"
            ]
          },
          "metadata": {
            "tags": []
          }
        }
      ]
    }
  ]
}